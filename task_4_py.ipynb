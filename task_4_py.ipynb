{
  "nbformat": 4,
  "nbformat_minor": 0,
  "metadata": {
    "colab": {
      "provenance": [],
      "authorship_tag": "ABX9TyO2jkHKgORkUs6sOpzzbri4",
      "include_colab_link": true
    },
    "kernelspec": {
      "name": "python3",
      "display_name": "Python 3"
    },
    "language_info": {
      "name": "python"
    }
  },
  "cells": [
    {
      "cell_type": "markdown",
      "metadata": {
        "id": "view-in-github",
        "colab_type": "text"
      },
      "source": [
        "<a href=\"https://colab.research.google.com/github/vtu29315-cpu/vtu29315/blob/main/task_4_py.ipynb\" target=\"_parent\"><img src=\"https://colab.research.google.com/assets/colab-badge.svg\" alt=\"Open In Colab\"/></a>"
      ]
    },
    {
      "cell_type": "code",
      "execution_count": 1,
      "metadata": {
        "colab": {
          "base_uri": "https://localhost:8080/"
        },
        "id": "bn-wTJOpaZpz",
        "outputId": "2051e969-5bd4-4325-ef85-9558f4512a46"
      },
      "outputs": [
        {
          "output_type": "stream",
          "name": "stdout",
          "text": [
            "[12]\n",
            "[12, 4]\n",
            "[12, 4, 2]\n",
            "[12, 4, 2, 4]\n",
            "[12, 2, 4]\n",
            "[12, 2, 4, 21]\n",
            "[2, 4, 12, 21]\n",
            "[2, 4, 12]\n",
            "[12, 4, 2]\n",
            "[0, 1, 2, 3, 4, 5, 6, 7, 8, 9]\n"
          ]
        }
      ],
      "source": [
        "sample = []\n",
        "sample.insert(0, 12)\n",
        "print(sample)\n",
        "sample.insert(1, 4)\n",
        "print(sample)\n",
        "sample.insert(2, 2)\n",
        "print(sample)\n",
        "sample.insert(3, 4)\n",
        "print(sample)\n",
        "sample.remove(4)\n",
        "print(sample)\n",
        "sample.append(21)\n",
        "print(sample)\n",
        "sample.sort()\n",
        "print(sample)\n",
        "sample.pop()\n",
        "print(sample)\n",
        "sample.reverse()\n",
        "print(sample)\n",
        "a = list(range(10))\n",
        "print(a)"
      ]
    },
    {
      "cell_type": "code",
      "source": [
        "alist = []\n",
        "for i in range(int(input())):\n",
        "    name = input()\n",
        "    score = float(input())\n",
        "    alist.append([name, score])\n",
        "second_highest = sorted(set([score for name, score in alist]))[1]\n",
        "print('\\n'.join(sorted([name for name, score in alist if score == second_highest])))"
      ],
      "metadata": {
        "colab": {
          "base_uri": "https://localhost:8080/"
        },
        "id": "sRkMJN_0an7P",
        "outputId": "229ff973-fa35-4502-b54e-d21ef3e7fb5d"
      },
      "execution_count": 2,
      "outputs": [
        {
          "output_type": "stream",
          "name": "stdout",
          "text": [
            "4\n",
            "minu\n",
            "25\n",
            "reena\n",
            "10\n",
            "priya\n",
            "10\n",
            "neha\n",
            "5\n",
            "priya\n",
            "reena\n"
          ]
        }
      ]
    },
    {
      "cell_type": "code",
      "source": [
        "n = int(input())\n",
        "a = map(int, input().split())\n",
        "t = tuple(a)\n",
        "print(hash(t))"
      ],
      "metadata": {
        "colab": {
          "base_uri": "https://localhost:8080/"
        },
        "id": "AnGjSq3ya0Vv",
        "outputId": "9a02197a-128d-4ec5-d17a-ce3f570fd5bb"
      },
      "execution_count": 3,
      "outputs": [
        {
          "output_type": "stream",
          "name": "stdout",
          "text": [
            "3\n",
            "2 1 4\n",
            "7868426630899093470\n"
          ]
        }
      ]
    },
    {
      "cell_type": "code",
      "source": [
        "def min_paint_balloons(s):\n",
        "    amber_count = s.count('a')\n",
        "    brass_count = s.count('b')\n",
        "    min_paint = min(amber_count, brass_count)\n",
        "    return min_paint\n",
        "\n",
        "T = int(input(\"enter the total testcase\"))\n",
        "for i in range(T):\n",
        "    s = input().strip()\n",
        "    print(min_paint_balloons(s))"
      ],
      "metadata": {
        "colab": {
          "base_uri": "https://localhost:8080/"
        },
        "id": "xv8XvMN8a-7R",
        "outputId": "7e1ab751-bff3-481f-d0f8-e93c6d27b688"
      },
      "execution_count": 4,
      "outputs": [
        {
          "output_type": "stream",
          "name": "stdout",
          "text": [
            "enter the total testcase3\n",
            "ab\n",
            "1\n",
            "bb\n",
            "0\n",
            "baaba\n",
            "2\n"
          ]
        }
      ]
    },
    {
      "cell_type": "code",
      "source": [],
      "metadata": {
        "id": "uIpOjnsRbG1b"
      },
      "execution_count": null,
      "outputs": []
    }
  ]
}