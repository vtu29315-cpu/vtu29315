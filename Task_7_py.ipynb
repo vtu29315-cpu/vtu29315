{
  "nbformat": 4,
  "nbformat_minor": 0,
  "metadata": {
    "colab": {
      "provenance": [],
      "authorship_tag": "ABX9TyNH7jTZBhbc55fEkftcnbRr",
      "include_colab_link": true
    },
    "kernelspec": {
      "name": "python3",
      "display_name": "Python 3"
    },
    "language_info": {
      "name": "python"
    }
  },
  "cells": [
    {
      "cell_type": "markdown",
      "metadata": {
        "id": "view-in-github",
        "colab_type": "text"
      },
      "source": [
        "<a href=\"https://colab.research.google.com/github/vtu29315-cpu/vtu29315/blob/main/Task_7_py.ipynb\" target=\"_parent\"><img src=\"https://colab.research.google.com/assets/colab-badge.svg\" alt=\"Open In Colab\"/></a>"
      ]
    },
    {
      "cell_type": "code",
      "execution_count": 1,
      "metadata": {
        "colab": {
          "base_uri": "https://localhost:8080/"
        },
        "id": "l1ddcsD3dV8e",
        "outputId": "03502116-78ee-42df-ab7e-7d1ab121eb99"
      },
      "outputs": [
        {
          "output_type": "stream",
          "name": "stdout",
          "text": [
            "Enter Item Code: 122\n",
            "Enter Item Name: brinjal\n",
            "Enter Price: 15\n",
            "Enter Quantity: 15\n",
            "Item Code: 122\n",
            "Item: brinjal\n",
            "Price: 15.0\n",
            "Quantity: 15\n",
            "Discount: 15\n",
            "Net Price: 210.0\n"
          ]
        }
      ],
      "source": [
        "def find_discount(qty):\n",
        "    if qty <= 10:\n",
        "        return 0\n",
        "    elif 11 <= qty <= 20:\n",
        "        return 15\n",
        "    else:\n",
        "        return 20\n",
        "\n",
        "def buy():\n",
        "    ICode = int(input(\"Enter Item Code: \"))\n",
        "    Item = input(\"Enter Item Name: \")\n",
        "    Price = float(input(\"Enter Price: \"))\n",
        "    Qty = int(input(\"Enter Quantity: \"))\n",
        "    Discount = find_discount(Qty)\n",
        "    Netprice = Price * Qty - Discount\n",
        "    return ICode, Item, Price, Qty, Discount, Netprice\n",
        "\n",
        "def show_all(ICode, Item, Price, Qty, Discount, Netprice):\n",
        "    print(\"Item Code:\", ICode)\n",
        "    print(\"Item:\", Item)\n",
        "    print(\"Price:\", Price)\n",
        "    print(\"Quantity:\", Qty)\n",
        "    print(\"Discount:\", Discount)\n",
        "    print(\"Net Price:\", Netprice)\n",
        "\n",
        "ICode, Item, Price, Qty, Discount, Netprice = buy()\n",
        "show_all(ICode, Item, Price, Qty, Discount, Netprice)"
      ]
    },
    {
      "cell_type": "code",
      "source": [
        "def cube_product_of_natural_numbers(n):\n",
        "    product = 1\n",
        "    for i in range(1, n + 1):\n",
        "        product *= i ** 3\n",
        "    return product\n",
        "\n",
        "n = int(input(\"Enter the value of N: \"))\n",
        "result = cube_product_of_natural_numbers(n)\n",
        "print(\"Cube product of the first\", n, \"natural numbers is:\", result)"
      ],
      "metadata": {
        "colab": {
          "base_uri": "https://localhost:8080/"
        },
        "id": "L16Q68k5drpD",
        "outputId": "57788578-165a-4f1a-b944-521c37cbcaff"
      },
      "execution_count": 2,
      "outputs": [
        {
          "output_type": "stream",
          "name": "stdout",
          "text": [
            "Enter the value of N: 3\n",
            "Cube product of the first 3 natural numbers is: 216\n"
          ]
        }
      ]
    },
    {
      "cell_type": "code",
      "source": [
        "def func_compute(n):\n",
        "    return lambda x: x * n\n",
        "\n",
        "result = func_compute(2)\n",
        "print(\"Double the number of 15 =\", result(15))\n",
        "result = func_compute(3)\n",
        "print(\"Triple the number of 15 =\", result(15))\n",
        "result = func_compute(4)\n",
        "print(\"Quadruple the number of 15 =\", result(15))\n",
        "result = func_compute(5)\n",
        "print(\"Quintuple the number 15 =\", result(15))"
      ],
      "metadata": {
        "colab": {
          "base_uri": "https://localhost:8080/"
        },
        "id": "jX_1bDjtdzo1",
        "outputId": "56e75a12-8614-41ff-9029-44f2d75d5703"
      },
      "execution_count": 3,
      "outputs": [
        {
          "output_type": "stream",
          "name": "stdout",
          "text": [
            "Double the number of 15 = 30\n",
            "Triple the number of 15 = 45\n",
            "Quadruple the number of 15 = 60\n",
            "Quintuple the number 15 = 75\n"
          ]
        }
      ]
    },
    {
      "cell_type": "code",
      "source": [
        "def categorize_tickets(ticket_ids):\n",
        "    adult_tickets = list(filter(lambda x: x % 2 == 0, ticket_ids))\n",
        "    child_tickets = list(filter(lambda x: x % 2 != 0, ticket_ids))\n",
        "    return adult_tickets, child_tickets\n",
        "\n",
        "ticket_ids = [101, 202, 305, 410, 513, 620, 723, 830, 945, 1050]\n",
        "adult_tickets, child_tickets = categorize_tickets(ticket_ids)\n",
        "print(\"Adult Tickets:\", adult_tickets)\n",
        "print(\"Child Tickets:\", child_tickets)"
      ],
      "metadata": {
        "colab": {
          "base_uri": "https://localhost:8080/"
        },
        "id": "uz_xrwO1d5Pl",
        "outputId": "ab1e3ae5-1b1d-42a9-8cd8-d60d7dd07963"
      },
      "execution_count": 4,
      "outputs": [
        {
          "output_type": "stream",
          "name": "stdout",
          "text": [
            "Adult Tickets: [202, 410, 620, 830, 1050]\n",
            "Child Tickets: [101, 305, 513, 723, 945]\n"
          ]
        }
      ]
    }
  ]
}