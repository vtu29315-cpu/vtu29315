{
  "nbformat": 4,
  "nbformat_minor": 0,
  "metadata": {
    "colab": {
      "provenance": [],
      "authorship_tag": "ABX9TyPb2jhxoYbKQchuxnlkqIPk",
      "include_colab_link": true
    },
    "kernelspec": {
      "name": "python3",
      "display_name": "Python 3"
    },
    "language_info": {
      "name": "python"
    }
  },
  "cells": [
    {
      "cell_type": "markdown",
      "metadata": {
        "id": "view-in-github",
        "colab_type": "text"
      },
      "source": [
        "<a href=\"https://colab.research.google.com/github/vtu29315-cpu/vtu29315/blob/main/task_2_py.ipynb\" target=\"_parent\"><img src=\"https://colab.research.google.com/assets/colab-badge.svg\" alt=\"Open In Colab\"/></a>"
      ]
    },
    {
      "cell_type": "code",
      "execution_count": 2,
      "metadata": {
        "colab": {
          "base_uri": "https://localhost:8080/"
        },
        "id": "SDdcnZxkXwOr",
        "outputId": "966089d8-6d1c-4320-a1ce-501239e26ef1"
      },
      "outputs": [
        {
          "output_type": "stream",
          "name": "stdout",
          "text": [
            "Guess a number between 1 and 9: 3\n",
            "Wrong guess. Try again.\n",
            "Guess a number between 1 and 9: 1\n",
            "Wrong guess. Try again.\n",
            "Guess a number between 1 and 9: 2\n",
            "Wrong guess. Try again.\n",
            "Guess a number between 1 and 9: 4\n",
            "Wrong guess. Try again.\n",
            "Guess a number between 1 and 9: 5\n",
            "Wrong guess. Try again.\n",
            "Guess a number between 1 and 9: 6\n",
            "Wrong guess. Try again.\n",
            "Guess a number between 1 and 9: 7\n",
            "Well guessed!\n"
          ]
        }
      ],
      "source": [
        "import random\n",
        "def guess_number():\n",
        "    target_number = random.randint(1, 9)\n",
        "    while True:\n",
        "        user_guess = int(input(\"Guess a number between 1 and 9: \"))\n",
        "        if user_guess == target_number:\n",
        "            print(\"Well guessed!\")\n",
        "            break\n",
        "        else:\n",
        "            print(\"Wrong guess. Try again.\")\n",
        "guess_number()"
      ]
    },
    {
      "cell_type": "code",
      "source": [
        "for number in range(1, 51):\n",
        "    if number % 3 == 0 and number % 5 == 0:\n",
        "        print(\"FizzBuzz\")\n",
        "    elif number % 3 == 0:\n",
        "        print(\"Fizz\")\n",
        "    elif number % 5 == 0:\n",
        "        print(\"Buzz\")\n",
        "    else:\n",
        "        print(number)"
      ],
      "metadata": {
        "colab": {
          "base_uri": "https://localhost:8080/"
        },
        "id": "-YETKKTEYJHb",
        "outputId": "8b9120df-4d16-46ce-c747-d6e34726e5b4"
      },
      "execution_count": 3,
      "outputs": [
        {
          "output_type": "stream",
          "name": "stdout",
          "text": [
            "1\n",
            "2\n",
            "Fizz\n",
            "4\n",
            "Buzz\n",
            "Fizz\n",
            "7\n",
            "8\n",
            "Fizz\n",
            "Buzz\n",
            "11\n",
            "Fizz\n",
            "13\n",
            "14\n",
            "FizzBuzz\n",
            "16\n",
            "17\n",
            "Fizz\n",
            "19\n",
            "Buzz\n",
            "Fizz\n",
            "22\n",
            "23\n",
            "Fizz\n",
            "Buzz\n",
            "26\n",
            "Fizz\n",
            "28\n",
            "29\n",
            "FizzBuzz\n",
            "31\n",
            "32\n",
            "Fizz\n",
            "34\n",
            "Buzz\n",
            "Fizz\n",
            "37\n",
            "38\n",
            "Fizz\n",
            "Buzz\n",
            "41\n",
            "Fizz\n",
            "43\n",
            "44\n",
            "FizzBuzz\n",
            "46\n",
            "47\n",
            "Fizz\n",
            "49\n",
            "Buzz\n"
          ]
        }
      ]
    },
    {
      "cell_type": "code",
      "source": [
        "nums = list(input(\"Enter a sequence of comma-separated 4-digit binary numbers: \").split(','))\n",
        "res = [i for i in nums if int(i, 2) % 6 == 0]\n",
        "print(res)"
      ],
      "metadata": {
        "colab": {
          "base_uri": "https://localhost:8080/"
        },
        "id": "UeZM8NvCYhhf",
        "outputId": "23b2dd36-1949-4fd0-dc66-4263a7064334"
      },
      "execution_count": 4,
      "outputs": [
        {
          "output_type": "stream",
          "name": "stdout",
          "text": [
            "Enter a sequence of comma-separated 4-digit binary numbers: 10111\n",
            "[]\n"
          ]
        }
      ]
    },
    {
      "cell_type": "code",
      "source": [
        "def count_even_odd(numbers):\n",
        "    even_count = 0\n",
        "    odd_count = 0\n",
        "    for num in numbers:\n",
        "        if num % 2 == 0:\n",
        "            even_count += 1\n",
        "        else:\n",
        "            odd_count += 1\n",
        "    return even_count, odd_count\n",
        "\n",
        "input_numbers = input(\"Enter a series of numbers separated by spaces: \")\n",
        "numbers = list(map(int, input_numbers.split()))\n",
        "even_count, odd_count = count_even_odd(numbers)\n",
        "print(\"Number of even numbers:\", even_count)\n",
        "print(\"Number of odd numbers:\", odd_count)"
      ],
      "metadata": {
        "colab": {
          "base_uri": "https://localhost:8080/"
        },
        "id": "KBoOZtXgYlsS",
        "outputId": "728426dd-29bb-4a7c-8f6e-2c674fbeec84"
      },
      "execution_count": 6,
      "outputs": [
        {
          "output_type": "stream",
          "name": "stdout",
          "text": [
            "Enter a series of numbers separated by spaces: 1 2 3 4 5\n",
            "Number of even numbers: 2\n",
            "Number of odd numbers: 3\n"
          ]
        }
      ]
    }
  ]
}