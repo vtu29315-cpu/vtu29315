{
  "nbformat": 4,
  "nbformat_minor": 0,
  "metadata": {
    "colab": {
      "provenance": [],
      "authorship_tag": "ABX9TyM3h2zxlAW73Jk7CfFeB4KW",
      "include_colab_link": true
    },
    "kernelspec": {
      "name": "python3",
      "display_name": "Python 3"
    },
    "language_info": {
      "name": "python"
    }
  },
  "cells": [
    {
      "cell_type": "markdown",
      "metadata": {
        "id": "view-in-github",
        "colab_type": "text"
      },
      "source": [
        "<a href=\"https://colab.research.google.com/github/vtu29315-cpu/vtu29315/blob/main/Task_13_py.ipynb\" target=\"_parent\"><img src=\"https://colab.research.google.com/assets/colab-badge.svg\" alt=\"Open In Colab\"/></a>"
      ]
    },
    {
      "cell_type": "code",
      "execution_count": 1,
      "metadata": {
        "colab": {
          "base_uri": "https://localhost:8080/"
        },
        "id": "jK__c6-GFt6i",
        "outputId": "860150db-8289-4c43-84fe-e26b75a7e3fa"
      },
      "outputs": [
        {
          "output_type": "stream",
          "name": "stdout",
          "text": [
            "--- Dice Roll Simulation Summary ---\n",
            "Die Sides: 6\n",
            "Total Rolls: 10000\n",
            "\n",
            "Outcome | Frequency | Probability\n",
            "---------------------------------\n",
            "   1    |   1743    |   0.1743\n",
            "   2    |   1675    |   0.1675\n",
            "   3    |   1629    |   0.1629\n",
            "   4    |   1600    |   0.1600\n",
            "   5    |   1689    |   0.1689\n",
            "   6    |   1664    |   0.1664\n"
          ]
        }
      ],
      "source": [
        "import numpy as np\n",
        "from collections import Counter\n",
        "\n",
        "# --- Configuration ---\n",
        "SIDES = 6  # Standard six-sided die\n",
        "NUM_ROLLS = 10000  # Number of times the die will be rolled\n",
        "\n",
        "# --- Procedure ---\n",
        "\n",
        "# 1. Simulate the rolls\n",
        "# np.random.randint(low, high, size) generates random integers in the range [low, high-1].\n",
        "# For a 6-sided die, the faces are 1 to 6, so the range is [1, 7).\n",
        "rolls = np.random.randint(low=1, high=SIDES + 1, size=NUM_ROLLS)\n",
        "\n",
        "# 2. Count the frequency of each outcome\n",
        "roll_counts = Counter(rolls)\n",
        "\n",
        "# 3. Calculate experimental probability\n",
        "results = {}\n",
        "for side in range(1, SIDES + 1):\n",
        "    frequency = roll_counts.get(side, 0) # Get count, 0 if not present\n",
        "    probability = frequency / NUM_ROLLS\n",
        "    results[side] = {\n",
        "        \"Frequency\": frequency,\n",
        "        \"Probability\": f\"{probability:.4f}\" # Format to 4 decimal places\n",
        "    }\n",
        "\n",
        "# --- Display Results ---\n",
        "\n",
        "print(\"--- Dice Roll Simulation Summary ---\")\n",
        "print(f\"Die Sides: {SIDES}\")\n",
        "print(f\"Total Rolls: {NUM_ROLLS}\\n\")\n",
        "\n",
        "print(\"Outcome | Frequency | Probability\")\n",
        "print(\"---------------------------------\")\n",
        "for side, data in results.items():\n",
        "    print(f\"   {side}    |   {data['Frequency']:<7} |   {data['Probability']}\")\n",
        "\n",
        "# Optional: Print the first 10 rolls to show raw data\n",
        "# print(\"\\nFirst 10 rolls:\", rolls[:10])\n"
      ]
    }
  ]
}