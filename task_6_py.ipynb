{
  "nbformat": 4,
  "nbformat_minor": 0,
  "metadata": {
    "colab": {
      "provenance": [],
      "authorship_tag": "ABX9TyPX32hav1VHsai5zem52aCW",
      "include_colab_link": true
    },
    "kernelspec": {
      "name": "python3",
      "display_name": "Python 3"
    },
    "language_info": {
      "name": "python"
    }
  },
  "cells": [
    {
      "cell_type": "markdown",
      "metadata": {
        "id": "view-in-github",
        "colab_type": "text"
      },
      "source": [
        "<a href=\"https://colab.research.google.com/github/vtu29315-cpu/vtu29315/blob/main/task_6_py.ipynb\" target=\"_parent\"><img src=\"https://colab.research.google.com/assets/colab-badge.svg\" alt=\"Open In Colab\"/></a>"
      ]
    },
    {
      "cell_type": "code",
      "execution_count": 1,
      "metadata": {
        "colab": {
          "base_uri": "https://localhost:8080/"
        },
        "id": "BqpYlXzwcS4C",
        "outputId": "5d275c29-1f59-4ec4-82a3-564237d290cf"
      },
      "outputs": [
        {
          "output_type": "stream",
          "name": "stdout",
          "text": [
            "Error: File 'file1.txt' not found.\n",
            "Error: File 'file2.txt' not found.\n",
            "Error: File 'file3.txt' not found.\n"
          ]
        }
      ],
      "source": [
        "def copy_files(file_paths):\n",
        "    for file_path in file_paths:\n",
        "        if os.path.exists(file_path):\n",
        "            with open(file_path, 'r') as original_file:\n",
        "                original_content = original_file.read()\n",
        "            copy_file_path = file_path.split('.')[0] + '_copy.' + file_path.split('.')[1]\n",
        "            with open(copy_file_path, 'w') as copy_file:\n",
        "                copy_file.write(original_content)\n",
        "            print(f\"Contents copied from {file_path} to {copy_file_path} successfully.\")\n",
        "        else:\n",
        "            print(f\"Error: File '{file_path}' not found.\")\n",
        "\n",
        "import os\n",
        "file_list = ['file1.txt', 'file2.txt', 'file3.txt']\n",
        "copy_files(file_list)"
      ]
    },
    {
      "cell_type": "code",
      "source": [
        "def create_file_and_count_occurrences():\n",
        "    file_name = input(\"Enter the file name to create: \")\n",
        "    with open(file_name, 'w') as file:\n",
        "        print(\"Enter the contents of the file (press Enter to finish):\")\n",
        "        while True:\n",
        "            line = input()\n",
        "            if not line:\n",
        "                break\n",
        "            file.write(line + '\\n')\n",
        "    print(\"\\nContents of the file:\")\n",
        "    with open(file_name, 'r') as file:\n",
        "        print(file.read())\n",
        "    letter = input(\"\\nEnter the letter to count occurrences: \")\n",
        "    with open(file_name, 'r') as file:\n",
        "        content = file.read()\n",
        "        count = content.count(letter)\n",
        "    print(f\"\\nThe letter '{letter}' occurs {count} times in the file.\")\n",
        "\n",
        "create_file_and_count_occurrences()"
      ],
      "metadata": {
        "id": "UXUMFWQLcuzC"
      },
      "execution_count": null,
      "outputs": []
    },
    {
      "cell_type": "code",
      "source": [
        "def create_file_and_count_words():\n",
        "    file_name = input(\"Enter the file name to create: \")\n",
        "    with open(file_name, 'w') as file:\n",
        "        print(\"Enter the contents of the file (press Enter to finish):\")\n",
        "        while True:\n",
        "            line = input()\n",
        "            if not line:\n",
        "                break\n",
        "            file.write(line + '\\n')\n",
        "    print(\"\\nContents of the file:\")\n",
        "    with open(file_name, 'r') as file:\n",
        "        print(file.read())\n",
        "    with open(file_name, 'r') as file:\n",
        "        content = file.read()\n",
        "        word_count = len(content.split())\n",
        "    print(f\"\\nThe number of words in the file is: {word_count}\")\n",
        "\n",
        "create_file_and_count_words()"
      ],
      "metadata": {
        "id": "RdzZEFlGcv33"
      },
      "execution_count": null,
      "outputs": []
    },
    {
      "cell_type": "code",
      "source": [
        "import csv\n",
        "with open('apple_quality.csv', 'r') as file:\n",
        "    data = csv.reader(file)\n",
        "    for row in data:\n",
        "        print(row)"
      ],
      "metadata": {
        "id": "FR9kvqE-c1S3"
      },
      "execution_count": null,
      "outputs": []
    }
  ]
}