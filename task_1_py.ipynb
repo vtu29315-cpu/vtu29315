{
  "nbformat": 4,
  "nbformat_minor": 0,
  "metadata": {
    "colab": {
      "provenance": [],
      "authorship_tag": "ABX9TyPyIdHS2kD79/DqcgRRHLtX",
      "include_colab_link": true
    },
    "kernelspec": {
      "name": "python3",
      "display_name": "Python 3"
    },
    "language_info": {
      "name": "python"
    }
  },
  "cells": [
    {
      "cell_type": "markdown",
      "metadata": {
        "id": "view-in-github",
        "colab_type": "text"
      },
      "source": [
        "<a href=\"https://colab.research.google.com/github/vtu29315-cpu/vtu29315/blob/main/task_1_py.ipynb\" target=\"_parent\"><img src=\"https://colab.research.google.com/assets/colab-badge.svg\" alt=\"Open In Colab\"/></a>"
      ]
    },
    {
      "cell_type": "code",
      "execution_count": 1,
      "metadata": {
        "colab": {
          "base_uri": "https://localhost:8080/"
        },
        "id": "0G1RgjDnOVi8",
        "outputId": "eeaec8ac-54de-4c5e-d351-0290b022fb12"
      },
      "outputs": [
        {
          "output_type": "stream",
          "name": "stdout",
          "text": [
            "Enter the principal amount: 1000\n",
            "Enter the rate of interest: 15\n",
            "Enter the time in years: 10\n",
            "The compound interest is: 3045.557735707907\n"
          ]
        }
      ],
      "source": [
        "principal = float(input(\"Enter the principal amount: \"))\n",
        "rate = float(input(\"Enter the rate of interest: \"))\n",
        "time = float(input(\"Enter the time in years: \"))\n",
        "compound_interest = principal * ((1 + rate / 100) ** time) - principal\n",
        "print(\"The compound interest is:\", compound_interest)"
      ]
    },
    {
      "cell_type": "markdown",
      "source": [],
      "metadata": {
        "id": "GQj8hj27PF9Y"
      }
    },
    {
      "cell_type": "code",
      "source": [
        "def calculate_total_cost(x,y):\n",
        "    return x*y\n",
        "t  = int(input(\"enter the number of test case:\"))\n",
        "print(calculate_total_cost(5,2))"
      ],
      "metadata": {
        "colab": {
          "base_uri": "https://localhost:8080/"
        },
        "id": "-xB-UYtaQEPu",
        "outputId": "23107937-3e02-4652-d266-b6bdbe8f90c6"
      },
      "execution_count": 5,
      "outputs": [
        {
          "output_type": "stream",
          "name": "stdout",
          "text": [
            "enter the number of test case:5\n",
            "10\n"
          ]
        }
      ]
    },
    {
      "cell_type": "code",
      "source": [
        "SOFT_PER_ACRE = 43560\n",
        "length  = float(input(\"enter the length of the field in feet:\"))\n",
        "width = float(input(\"enter the width of the field in feet:\"))\n",
        "area_sqft = length*width\n",
        "acres = area_sqft / SOFT_PER_ACRE\n",
        "print(\"the area of the field is\",acres,\"acres\")"
      ],
      "metadata": {
        "colab": {
          "base_uri": "https://localhost:8080/"
        },
        "id": "8HtZlAYJQHNm",
        "outputId": "ae4df87e-ce85-4619-b2c1-fe9985fc1869"
      },
      "execution_count": 6,
      "outputs": [
        {
          "output_type": "stream",
          "name": "stdout",
          "text": [
            "enter the length of the field in feet:2000\n",
            "enter the width of the field in feet:5000\n",
            "the area of the field is 229.5684113865932 acres\n"
          ]
        }
      ]
    },
    {
      "cell_type": "code",
      "source": [
        "import math\n",
        "def calculate_area_in_acres(radius_in_feet):\n",
        "    area_in_acres = math.pi*(radius_in_feet**2)/43560\n",
        "    return area_in_acres\n",
        "radius_in_feet = float(input(\"enter the radius of the field in feet:\"))\n",
        "area_in_acres = calculate_area_in_acres(radius_in_feet)\n",
        "print(f\"the ares of the field is :{area_in_acres:.2f} acres\")"
      ],
      "metadata": {
        "colab": {
          "base_uri": "https://localhost:8080/"
        },
        "id": "tO10nMLnQRcN",
        "outputId": "bcc2f3bc-01ca-4ccf-9ae0-91ff5ea7da99"
      },
      "execution_count": 7,
      "outputs": [
        {
          "output_type": "stream",
          "name": "stdout",
          "text": [
            "enter the radius of the field in feet:1000\n",
            "the ares of the field is :72.12 acres\n"
          ]
        }
      ]
    }
  ]
}