{
  "nbformat": 4,
  "nbformat_minor": 0,
  "metadata": {
    "colab": {
      "provenance": [],
      "authorship_tag": "ABX9TyNWMWfZTT1E06uFPTHMqOaO",
      "include_colab_link": true
    },
    "kernelspec": {
      "name": "python3",
      "display_name": "Python 3"
    },
    "language_info": {
      "name": "python"
    }
  },
  "cells": [
    {
      "cell_type": "markdown",
      "metadata": {
        "id": "view-in-github",
        "colab_type": "text"
      },
      "source": [
        "<a href=\"https://colab.research.google.com/github/vtu29315-cpu/vtu29315/blob/main/Task8_py.ipynb\" target=\"_parent\"><img src=\"https://colab.research.google.com/assets/colab-badge.svg\" alt=\"Open In Colab\"/></a>"
      ]
    },
    {
      "cell_type": "code",
      "execution_count": 1,
      "metadata": {
        "colab": {
          "base_uri": "https://localhost:8080/"
        },
        "id": "ap6pdZcreRB2",
        "outputId": "ed929847-5d71-470e-c644-c5c0fac1500b"
      },
      "outputs": [
        {
          "output_type": "stream",
          "name": "stdout",
          "text": [
            "0 1 1 2 3 5 8 13 21 34 "
          ]
        }
      ],
      "source": [
        "def fibonacci():\n",
        "    a, b = 0, 1\n",
        "    for _ in range(10):\n",
        "        yield a\n",
        "        a, b = b, a + b\n",
        "\n",
        "fibonacci_series = fibonacci()\n",
        "for number in fibonacci_series:\n",
        "    print(number, end=\" \")"
      ]
    },
    {
      "cell_type": "code",
      "source": [
        "def squares():\n",
        "    for i in range(5):\n",
        "        yield i ** 2\n",
        "\n",
        "squares_generator = squares()\n",
        "for square in squares_generator:\n",
        "    print(square)"
      ],
      "metadata": {
        "colab": {
          "base_uri": "https://localhost:8080/"
        },
        "id": "pZY8atFQeWSy",
        "outputId": "7790c65a-8904-43c6-945f-227fb115b4c3"
      },
      "execution_count": 2,
      "outputs": [
        {
          "output_type": "stream",
          "name": "stdout",
          "text": [
            "0\n",
            "1\n",
            "4\n",
            "9\n",
            "16\n"
          ]
        }
      ]
    },
    {
      "cell_type": "code",
      "source": [
        "def operation_decorator(func):\n",
        "    def wrapper(x, y):\n",
        "        print(\"Performing arithmetic operation...\")\n",
        "        result = func(x, y)\n",
        "        print(\"Operation completed.\")\n",
        "        return result\n",
        "    return wrapper\n",
        "\n",
        "@operation_decorator\n",
        "def add(x, y):\n",
        "    return x + y\n",
        "\n",
        "@operation_decorator\n",
        "def divide(x, y):\n",
        "    if y == 0:\n",
        "        return \"Cannot divide by zero!\"\n",
        "    else:\n",
        "        return x / y\n",
        "\n",
        "result_add = add(5, 3)\n",
        "print(\"Result of addition:\", result_add)\n",
        "result_divide = divide(15, 0)\n",
        "print(\"Result of division:\", result_divide)"
      ],
      "metadata": {
        "colab": {
          "base_uri": "https://localhost:8080/"
        },
        "id": "CSn3a3WWeY3h",
        "outputId": "e62376de-4d87-4f37-fad6-9ba24198345e"
      },
      "execution_count": 3,
      "outputs": [
        {
          "output_type": "stream",
          "name": "stdout",
          "text": [
            "Performing arithmetic operation...\n",
            "Operation completed.\n",
            "Result of addition: 8\n",
            "Performing arithmetic operation...\n",
            "Operation completed.\n",
            "Result of division: Cannot divide by zero!\n"
          ]
        }
      ]
    }
  ]
}