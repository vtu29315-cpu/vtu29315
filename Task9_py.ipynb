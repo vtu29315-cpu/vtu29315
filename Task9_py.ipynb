{
  "nbformat": 4,
  "nbformat_minor": 0,
  "metadata": {
    "colab": {
      "provenance": [],
      "authorship_tag": "ABX9TyPEj5aSdnuXiNy/DqHuj4Ly",
      "include_colab_link": true
    },
    "kernelspec": {
      "name": "python3",
      "display_name": "Python 3"
    },
    "language_info": {
      "name": "python"
    }
  },
  "cells": [
    {
      "cell_type": "markdown",
      "metadata": {
        "id": "view-in-github",
        "colab_type": "text"
      },
      "source": [
        "<a href=\"https://colab.research.google.com/github/vtu29315-cpu/vtu29315/blob/main/Task9_py.ipynb\" target=\"_parent\"><img src=\"https://colab.research.google.com/assets/colab-badge.svg\" alt=\"Open In Colab\"/></a>"
      ]
    },
    {
      "cell_type": "code",
      "execution_count": 1,
      "metadata": {
        "colab": {
          "base_uri": "https://localhost:8080/"
        },
        "id": "t2XHX9hpexGd",
        "outputId": "7f99f6d0-0607-476c-ded9-1cc242db762b"
      },
      "outputs": [
        {
          "output_type": "stream",
          "name": "stdout",
          "text": [
            "Please enter your age: 18\n",
            "Your age is: 18\n"
          ]
        }
      ],
      "source": [
        "def get_age():\n",
        "    while True:\n",
        "        try:\n",
        "            age = int(input(\"Please enter your age: \"))\n",
        "            if age < 0:\n",
        "                raise ValueError(\"Age cannot be negative.\")\n",
        "            return age\n",
        "        except ValueError as ve:\n",
        "            print(\"Invalid input:\", ve)\n",
        "\n",
        "try:\n",
        "    age = get_age()\n",
        "    print(\"Your age is:\", age)\n",
        "except ValueError as ve:\n",
        "    print(\"An error occurred:\", ve)"
      ]
    },
    {
      "cell_type": "code",
      "source": [
        "def view_seat_details(seat_list, index):\n",
        "    try:\n",
        "        seat = seat_list[index]\n",
        "        print(\"Seat Details:\")\n",
        "        print(\"Seat Number:\", seat.get(\"number\"))\n",
        "        print(\"Section:\", seat.get(\"section\"))\n",
        "        print(\"Availability:\", \"Booked\" if seat.get(\"is_booked\") else \"Available\")\n",
        "    except IndexError:\n",
        "        print(\"Invalid seat index. Please select a valid seat.\")\n",
        "\n",
        "seats = [\n",
        "    {\"number\": \"A1\", \"section\": \"VIP\", \"is_booked\": False},\n",
        "    {\"number\": \"A2\", \"section\": \"VIP\", \"is_booked\": True},\n",
        "    {\"number\": \"B1\", \"section\": \"General\", \"is_booked\": False},\n",
        "    {\"number\": \"B2\", \"section\": \"General\", \"is_booked\": False}\n",
        "]\n",
        "\n",
        "try:\n",
        "    seat_index = int(input(\"Enter the index of the seat you want to view: \"))\n",
        "    view_seat_details(seats, seat_index)\n",
        "except ValueError:\n",
        "    print(\"Invalid input. Please enter a valid seat index (integer).\")"
      ],
      "metadata": {
        "colab": {
          "base_uri": "https://localhost:8080/"
        },
        "id": "yfnLaR9PfH28",
        "outputId": "1e0e90f0-3407-48a4-d2a7-6f7d7f4e68d9"
      },
      "execution_count": 2,
      "outputs": [
        {
          "output_type": "stream",
          "name": "stdout",
          "text": [
            "Enter the index of the seat you want to view: 5\n",
            "Invalid seat index. Please select a valid seat.\n"
          ]
        }
      ]
    },
    {
      "cell_type": "code",
      "source": [
        "def open_file(filename):\n",
        "    try:\n",
        "        file = open(filename, 'r')\n",
        "        contents = file.read()\n",
        "        print(\"File contents:\")\n",
        "        print(contents)\n",
        "        file.close()\n",
        "    except FileNotFoundError:\n",
        "        print(\"Error: File not found.\")\n",
        "\n",
        "file_name = input(\"Input a file name: \")\n",
        "open_file(file_name)"
      ],
      "metadata": {
        "id": "EUxJ3Lj5fQMV"
      },
      "execution_count": null,
      "outputs": []
    },
    {
      "cell_type": "code",
      "source": [
        "try:\n",
        "    initial_investment = float(input(\"Enter the initial investment amount: \"))\n",
        "    final_investment = float(input(\"Enter the final investment amount: \"))\n",
        "    roi = (final_investment - initial_investment) / initial_investment * 100\n",
        "    print(\"Return on Investment (ROI): {:.2f}\".format(roi))\n",
        "except ValueError:\n",
        "    print(\"Error: Please enter a valid numeric value for the investment amount.\")\n",
        "except ZeroDivisionError:\n",
        "    print(\"Error: Initial investment amount cannot be zero.\")"
      ],
      "metadata": {
        "id": "rWj9uEizfTaV"
      },
      "execution_count": null,
      "outputs": []
    }
  ]
}