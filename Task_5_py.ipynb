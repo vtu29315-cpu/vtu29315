{
  "nbformat": 4,
  "nbformat_minor": 0,
  "metadata": {
    "colab": {
      "provenance": [],
      "authorship_tag": "ABX9TyO4UxBlNb+FOKzVzJsxmt0F",
      "include_colab_link": true
    },
    "kernelspec": {
      "name": "python3",
      "display_name": "Python 3"
    },
    "language_info": {
      "name": "python"
    }
  },
  "cells": [
    {
      "cell_type": "markdown",
      "metadata": {
        "id": "view-in-github",
        "colab_type": "text"
      },
      "source": [
        "<a href=\"https://colab.research.google.com/github/vtu29315-cpu/vtu29315/blob/main/Task_5_py.ipynb\" target=\"_parent\"><img src=\"https://colab.research.google.com/assets/colab-badge.svg\" alt=\"Open In Colab\"/></a>"
      ]
    },
    {
      "cell_type": "code",
      "execution_count": 1,
      "metadata": {
        "colab": {
          "base_uri": "https://localhost:8080/"
        },
        "id": "YuTuIco7bg68",
        "outputId": "b91d7a09-c63b-417e-9e45-ea4d5833a37a"
      },
      "outputs": [
        {
          "output_type": "stream",
          "name": "stdout",
          "text": [
            "Element 110 is present at index 6\n"
          ]
        }
      ],
      "source": [
        "def search(arr, x):\n",
        "    for i in range(len(arr)):\n",
        "        if arr[i] == x:\n",
        "            return i\n",
        "    return -1\n",
        "\n",
        "arr = [10, 20, 80, 30, 60, 50, 110, 100, 130, 170]\n",
        "x = 110\n",
        "result = search(arr, x)\n",
        "if result != -1:\n",
        "    print(\"Element\", x, \"is present at index\", result)\n",
        "else:\n",
        "    print(\"Element\", x, \"is not present in the array\")"
      ]
    },
    {
      "cell_type": "code",
      "source": [
        "def binary_search(nums, target):\n",
        "    left = 0\n",
        "    right = len(nums) - 1\n",
        "    while left <= right:\n",
        "        mid = left + (right - left) // 2\n",
        "        if nums[mid] == target:\n",
        "            return mid\n",
        "        elif nums[mid] < target:\n",
        "            left = mid + 1\n",
        "        else:\n",
        "            right = mid - 1\n",
        "    return -1\n",
        "\n",
        "nums = [-1, 0, 3, 5, 9, 12]\n",
        "target = 9\n",
        "print(binary_search(nums, target))"
      ],
      "metadata": {
        "colab": {
          "base_uri": "https://localhost:8080/"
        },
        "id": "O3PhBsj0brOo",
        "outputId": "326aff78-15ff-46f6-c7dc-376aeb3c487d"
      },
      "execution_count": 2,
      "outputs": [
        {
          "output_type": "stream",
          "name": "stdout",
          "text": [
            "4\n"
          ]
        }
      ]
    },
    {
      "cell_type": "code",
      "source": [
        "def bubble_sort(arr):\n",
        "    n = len(arr)\n",
        "    for i in range(n):\n",
        "        for j in range(0, n - i - 1):\n",
        "            if arr[j] > arr[j + 1]:\n",
        "                arr[j], arr[j + 1] = arr[j + 1], arr[j]\n",
        "\n",
        "def find_sequence(arr):\n",
        "    smallest = arr[0]\n",
        "    largest = arr[-1]\n",
        "    print(\"Sequence of integers:\", smallest, \"to\", largest)\n",
        "\n",
        "n = int(input(\"Enter the number of integers: \"))\n",
        "integers = []\n",
        "print(\"Enter the integers:\")\n",
        "for _ in range(n):\n",
        "    integers.append(int(input()))\n",
        "bubble_sort(integers)\n",
        "find_sequence(integers)3"
      ],
      "metadata": {
        "colab": {
          "base_uri": "https://localhost:8080/"
        },
        "id": "d-raDgcubx2e",
        "outputId": "a71b93b6-528c-4c67-9ef4-5533d2a63497"
      },
      "execution_count": 3,
      "outputs": [
        {
          "output_type": "stream",
          "name": "stdout",
          "text": [
            "Enter the number of integers: 3\n",
            "Enter the integers:\n",
            "10\n",
            "50\n",
            "0\n",
            "Sequence of integers: 0 to 50\n"
          ]
        }
      ]
    },
    {
      "cell_type": "code",
      "source": [
        "def selection_sort(scores):\n",
        "    n = len(scores)\n",
        "    for i in range(n):\n",
        "        min_index = i\n",
        "        for j in range(i + 1, n):\n",
        "            if scores[j] < scores[min_index]:\n",
        "                min_index = j\n",
        "        scores[i], scores[min_index] = scores[min_index], scores[i]\n",
        "        print(\"After iteration\", i + 1, \":\", scores)\n",
        "\n",
        "exam_scores = [87, 65, 92, 78, 55, 70, 82]\n",
        "print(\"Initial exam scores:\", exam_scores)\n",
        "print(\"Sorting using Selection Sort:\")\n",
        "selection_sort(exam_scores)\n",
        "print(\"Final sorted exam scores:\", exam_scores)"
      ],
      "metadata": {
        "colab": {
          "base_uri": "https://localhost:8080/"
        },
        "id": "rgW7AehPb9ZZ",
        "outputId": "7fed1029-42e4-4978-8722-90a49a15f9d1"
      },
      "execution_count": 4,
      "outputs": [
        {
          "output_type": "stream",
          "name": "stdout",
          "text": [
            "Initial exam scores: [87, 65, 92, 78, 55, 70, 82]\n",
            "Sorting using Selection Sort:\n",
            "After iteration 1 : [55, 65, 92, 78, 87, 70, 82]\n",
            "After iteration 2 : [55, 65, 92, 78, 87, 70, 82]\n",
            "After iteration 3 : [55, 65, 70, 78, 87, 92, 82]\n",
            "After iteration 4 : [55, 65, 70, 78, 87, 92, 82]\n",
            "After iteration 5 : [55, 65, 70, 78, 82, 92, 87]\n",
            "After iteration 6 : [55, 65, 70, 78, 82, 87, 92]\n",
            "After iteration 7 : [55, 65, 70, 78, 82, 87, 92]\n",
            "Final sorted exam scores: [55, 65, 70, 78, 82, 87, 92]\n"
          ]
        }
      ]
    }
  ]
}